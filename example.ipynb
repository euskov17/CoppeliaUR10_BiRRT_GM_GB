{
 "cells": [
  {
   "cell_type": "code",
   "execution_count": 14,
   "metadata": {},
   "outputs": [],
   "source": [
    "import numpy as np\n",
    "import time \n",
    "\n",
    "from src.ur10_wrapper import UR10\n",
    "from src.rrt_versions.bi_rrt import BiRRT\n",
    "from src.sampler_fit import load_collected_data, sampler_fit\n",
    "from src.tests_maker import DEFAULT_START\n",
    "from src.rrt_versions.sampler import GM_Sampler\n",
    "from src.gb_sampler import GB_GM_Sampler"
   ]
  },
  {
   "cell_type": "code",
   "execution_count": 15,
   "metadata": {},
   "outputs": [],
   "source": [
    "world = ['Floor', 'rack', 'diningTable']\n",
    "ur10 = UR10(world)"
   ]
  },
  {
   "cell_type": "code",
   "execution_count": 16,
   "metadata": {},
   "outputs": [],
   "source": [
    "start = DEFAULT_START"
   ]
  },
  {
   "cell_type": "markdown",
   "metadata": {},
   "source": [
    "## Run BiRRT with Uniform Sampler"
   ]
  },
  {
   "cell_type": "code",
   "execution_count": 17,
   "metadata": {},
   "outputs": [],
   "source": [
    "ur10.set_state(start)"
   ]
  },
  {
   "cell_type": "code",
   "execution_count": 18,
   "metadata": {},
   "outputs": [
    {
     "name": "stderr",
     "output_type": "stream",
     "text": [
      " 14%|█▍        | 276/2000 [02:07<13:17,  2.16it/s]\n"
     ]
    }
   ],
   "source": [
    "result, iters, num_steps, path = BiRRT(ur10, max_iters=2000, verbose=True, time_limit=300)"
   ]
  },
  {
   "cell_type": "code",
   "execution_count": 37,
   "metadata": {},
   "outputs": [],
   "source": [
    "for state in path:\n",
    "    ur10.set_state(state)\n",
    "    time.sleep(0.03)"
   ]
  },
  {
   "cell_type": "markdown",
   "metadata": {},
   "source": [
    "## Get collected data with 100 runs and Fit Gaussian Mixture"
   ]
  },
  {
   "cell_type": "code",
   "execution_count": 20,
   "metadata": {},
   "outputs": [],
   "source": [
    "collected_data = load_collected_data('collected_data/fixed_start_ur10_100_runs.txt')"
   ]
  },
  {
   "cell_type": "code",
   "execution_count": 21,
   "metadata": {},
   "outputs": [],
   "source": [
    "gm = sampler_fit('collected_data/fixed_start_ur10_100_runs.txt')"
   ]
  },
  {
   "cell_type": "markdown",
   "metadata": {},
   "source": [
    "## Run BiRRT with GM Sampler "
   ]
  },
  {
   "cell_type": "code",
   "execution_count": 22,
   "metadata": {},
   "outputs": [],
   "source": [
    "gm_sampler = GM_Sampler(gm)"
   ]
  },
  {
   "cell_type": "code",
   "execution_count": 32,
   "metadata": {},
   "outputs": [
    {
     "name": "stderr",
     "output_type": "stream",
     "text": [
      "  2%|▏         | 35/2000 [00:15<14:05,  2.32it/s]\n"
     ]
    }
   ],
   "source": [
    "ur10.set_state(start)\n",
    "result_gm, iters_gm, num_steps_gm, path_gm = BiRRT(ur10, max_iters=2000, sampler=gm_sampler, verbose=True, time_limit=90)"
   ]
  },
  {
   "cell_type": "code",
   "execution_count": 38,
   "metadata": {},
   "outputs": [],
   "source": [
    "for state in path_gm:\n",
    "    ur10.set_state(state)\n",
    "    time.sleep(0.03)"
   ]
  },
  {
   "cell_type": "markdown",
   "metadata": {},
   "source": [
    "## Run BiRRT with GM Sampler with Goal Bias"
   ]
  },
  {
   "cell_type": "code",
   "execution_count": 25,
   "metadata": {},
   "outputs": [],
   "source": [
    "gm_gb_sampler = GB_GM_Sampler(gm, ur10)"
   ]
  },
  {
   "cell_type": "code",
   "execution_count": 28,
   "metadata": {},
   "outputs": [
    {
     "name": "stderr",
     "output_type": "stream",
     "text": [
      "  1%|▏         | 26/2000 [00:12<15:26,  2.13it/s]\n"
     ]
    }
   ],
   "source": [
    "ur10.set_state(start)\n",
    "result_gb, iters_gb, num_steps_gb, path_gb = BiRRT(ur10, max_iters=2000, sampler=gm_gb_sampler, verbose=True, time_limit=90)"
   ]
  },
  {
   "cell_type": "code",
   "execution_count": 39,
   "metadata": {},
   "outputs": [],
   "source": [
    "for state in path_gb:\n",
    "    ur10.set_state(state)\n",
    "    time.sleep(0.03)"
   ]
  }
 ],
 "metadata": {
  "kernelspec": {
   "display_name": "base",
   "language": "python",
   "name": "python3"
  },
  "language_info": {
   "codemirror_mode": {
    "name": "ipython",
    "version": 3
   },
   "file_extension": ".py",
   "mimetype": "text/x-python",
   "name": "python",
   "nbconvert_exporter": "python",
   "pygments_lexer": "ipython3",
   "version": "3.11.5"
  }
 },
 "nbformat": 4,
 "nbformat_minor": 2
}
